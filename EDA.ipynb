{
 "cells": [
  {
   "cell_type": "markdown",
   "id": "bd991307",
   "metadata": {},
   "source": [
    "# EDA "
   ]
  },
  {
   "cell_type": "code",
   "execution_count": 33,
   "id": "f32eeda5",
   "metadata": {},
   "outputs": [],
   "source": [
    "import pandas as pd\n",
    "import numpy as np"
   ]
  },
  {
   "cell_type": "code",
   "execution_count": 34,
   "id": "1e6f07d4",
   "metadata": {},
   "outputs": [
    {
     "data": {
      "text/plain": [
       "['data/4th/validation_data.csv',\n",
       " 'data/4th/comments_to_score.csv',\n",
       " 'data/4th/sample_submission.csv',\n",
       " 'data/ruddit/ruddit_with_text_1.csv',\n",
       " 'data/1st/test_labels.csv',\n",
       " 'data/1st/test.csv',\n",
       " 'data/1st/train.csv',\n",
       " 'data/2nd/test_public_expanded.csv',\n",
       " 'data/2nd/identity_individual_annotations.csv',\n",
       " 'data/2nd/test_private_expanded.csv',\n",
       " 'data/2nd/test.csv',\n",
       " 'data/2nd/all_data.csv',\n",
       " 'data/2nd/toxicity_individual_annotations.csv',\n",
       " 'data/2nd/train.csv',\n",
       " 'data/2nd/sample_submission.csv']"
      ]
     },
     "execution_count": 34,
     "metadata": {},
     "output_type": "execute_result"
    }
   ],
   "source": [
    "import os\n",
    "\n",
    "data_base_path = 'data'\n",
    "listdir = os.listdir(data_base_path)\n",
    "listdir.remove('.DS_Store')\n",
    "\n",
    "data_paths = []\n",
    "\n",
    "for dir_name in listdir:\n",
    "    file_dir_name = os.path.join(data_base_path, dir_name)\n",
    "    for filename in os.listdir(file_dir_name):\n",
    "        if filename == '.DS_Store':\n",
    "            continue\n",
    "        data_paths.append(os.path.join(file_dir_name, filename))\n",
    "data_paths"
   ]
  },
  {
   "cell_type": "code",
   "execution_count": 1,
   "id": "5e341467",
   "metadata": {},
   "outputs": [],
   "source": [
    "# library for data analysis\n",
    "import numpy as np\n",
    "import pandas as pd\n",
    "\n",
    "# visualizing library\n",
    "import matplotlib as mpl\n",
    "import matplotlib.pyplot as plt\n",
    "import seaborn as sns\n",
    "\n",
    "sns.set_style('whitegrid')"
   ]
  },
  {
   "cell_type": "markdown",
   "id": "479fb54e",
   "metadata": {},
   "source": [
    "## 1st competition data"
   ]
  },
  {
   "cell_type": "code",
   "execution_count": 19,
   "id": "4c079ee9",
   "metadata": {},
   "outputs": [
    {
     "data": {
      "text/html": [
       "<div>\n",
       "<style scoped>\n",
       "    .dataframe tbody tr th:only-of-type {\n",
       "        vertical-align: middle;\n",
       "    }\n",
       "\n",
       "    .dataframe tbody tr th {\n",
       "        vertical-align: top;\n",
       "    }\n",
       "\n",
       "    .dataframe thead th {\n",
       "        text-align: right;\n",
       "    }\n",
       "</style>\n",
       "<table border=\"1\" class=\"dataframe\">\n",
       "  <thead>\n",
       "    <tr style=\"text-align: right;\">\n",
       "      <th></th>\n",
       "      <th>id</th>\n",
       "      <th>comment_text</th>\n",
       "      <th>toxic</th>\n",
       "      <th>severe_toxic</th>\n",
       "      <th>obscene</th>\n",
       "      <th>threat</th>\n",
       "      <th>insult</th>\n",
       "      <th>identity_hate</th>\n",
       "    </tr>\n",
       "  </thead>\n",
       "  <tbody>\n",
       "    <tr>\n",
       "      <th>0</th>\n",
       "      <td>0000997932d777bf</td>\n",
       "      <td>Explanation\\nWhy the edits made under my usern...</td>\n",
       "      <td>0</td>\n",
       "      <td>0</td>\n",
       "      <td>0</td>\n",
       "      <td>0</td>\n",
       "      <td>0</td>\n",
       "      <td>0</td>\n",
       "    </tr>\n",
       "    <tr>\n",
       "      <th>1</th>\n",
       "      <td>000103f0d9cfb60f</td>\n",
       "      <td>D'aww! He matches this background colour I'm s...</td>\n",
       "      <td>0</td>\n",
       "      <td>0</td>\n",
       "      <td>0</td>\n",
       "      <td>0</td>\n",
       "      <td>0</td>\n",
       "      <td>0</td>\n",
       "    </tr>\n",
       "    <tr>\n",
       "      <th>2</th>\n",
       "      <td>000113f07ec002fd</td>\n",
       "      <td>Hey man, I'm really not trying to edit war. It...</td>\n",
       "      <td>0</td>\n",
       "      <td>0</td>\n",
       "      <td>0</td>\n",
       "      <td>0</td>\n",
       "      <td>0</td>\n",
       "      <td>0</td>\n",
       "    </tr>\n",
       "    <tr>\n",
       "      <th>3</th>\n",
       "      <td>0001b41b1c6bb37e</td>\n",
       "      <td>\"\\nMore\\nI can't make any real suggestions on ...</td>\n",
       "      <td>0</td>\n",
       "      <td>0</td>\n",
       "      <td>0</td>\n",
       "      <td>0</td>\n",
       "      <td>0</td>\n",
       "      <td>0</td>\n",
       "    </tr>\n",
       "    <tr>\n",
       "      <th>4</th>\n",
       "      <td>0001d958c54c6e35</td>\n",
       "      <td>You, sir, are my hero. Any chance you remember...</td>\n",
       "      <td>0</td>\n",
       "      <td>0</td>\n",
       "      <td>0</td>\n",
       "      <td>0</td>\n",
       "      <td>0</td>\n",
       "      <td>0</td>\n",
       "    </tr>\n",
       "  </tbody>\n",
       "</table>\n",
       "</div>"
      ],
      "text/plain": [
       "                 id                                       comment_text  toxic  \\\n",
       "0  0000997932d777bf  Explanation\\nWhy the edits made under my usern...      0   \n",
       "1  000103f0d9cfb60f  D'aww! He matches this background colour I'm s...      0   \n",
       "2  000113f07ec002fd  Hey man, I'm really not trying to edit war. It...      0   \n",
       "3  0001b41b1c6bb37e  \"\\nMore\\nI can't make any real suggestions on ...      0   \n",
       "4  0001d958c54c6e35  You, sir, are my hero. Any chance you remember...      0   \n",
       "\n",
       "   severe_toxic  obscene  threat  insult  identity_hate  \n",
       "0             0        0       0       0              0  \n",
       "1             0        0       0       0              0  \n",
       "2             0        0       0       0              0  \n",
       "3             0        0       0       0              0  \n",
       "4             0        0       0       0              0  "
      ]
     },
     "execution_count": 19,
     "metadata": {},
     "output_type": "execute_result"
    }
   ],
   "source": [
    "# read data\n",
    "train_1st = pd.read_csv('data/1st/train.csv')\n",
    "# sample\n",
    "train_1st.head()"
   ]
  },
  {
   "cell_type": "markdown",
   "id": "bbb911a8",
   "metadata": {},
   "source": [
    "### meaning of columns\n",
    "* id : comment id\n",
    "* comment_text : text of comment\n",
    "* rest of columns : one hot encodings about label \n",
    "    - toxic\n",
    "    - severe_toxic\n",
    "    - obscene\n",
    "    - threat\n",
    "    - insult\n",
    "    - identity_hate"
   ]
  },
  {
   "cell_type": "code",
   "execution_count": 36,
   "id": "9e02ec43",
   "metadata": {
    "scrolled": true
   },
   "outputs": [
    {
     "data": {
      "text/plain": [
       "159571"
      ]
     },
     "execution_count": 36,
     "metadata": {},
     "output_type": "execute_result"
    }
   ],
   "source": [
    "len(train_1st)"
   ]
  },
  {
   "cell_type": "code",
   "execution_count": 37,
   "id": "5a3e7d37",
   "metadata": {},
   "outputs": [
    {
     "data": {
      "text/plain": [
       "0"
      ]
     },
     "execution_count": 37,
     "metadata": {},
     "output_type": "execute_result"
    }
   ],
   "source": [
    "# 결측값 확인\n",
    "train_1st['comment_text'].isna().sum()"
   ]
  },
  {
   "cell_type": "code",
   "execution_count": 54,
   "id": "46150ae0",
   "metadata": {},
   "outputs": [
    {
     "name": "stdout",
     "output_type": "stream",
     "text": [
      "<class 'pandas.core.frame.DataFrame'>\n",
      "RangeIndex: 159571 entries, 0 to 159570\n",
      "Data columns (total 8 columns):\n",
      " #   Column         Non-Null Count   Dtype \n",
      "---  ------         --------------   ----- \n",
      " 0   id             159571 non-null  object\n",
      " 1   comment_text   159571 non-null  object\n",
      " 2   toxic          159571 non-null  int64 \n",
      " 3   severe_toxic   159571 non-null  int64 \n",
      " 4   obscene        159571 non-null  int64 \n",
      " 5   threat         159571 non-null  int64 \n",
      " 6   insult         159571 non-null  int64 \n",
      " 7   identity_hate  159571 non-null  int64 \n",
      "dtypes: int64(6), object(2)\n",
      "memory usage: 9.7+ MB\n"
     ]
    }
   ],
   "source": [
    "train_1st.info()"
   ]
  },
  {
   "cell_type": "code",
   "execution_count": 55,
   "id": "0138e47c",
   "metadata": {},
   "outputs": [
    {
     "data": {
      "text/html": [
       "<div>\n",
       "<style scoped>\n",
       "    .dataframe tbody tr th:only-of-type {\n",
       "        vertical-align: middle;\n",
       "    }\n",
       "\n",
       "    .dataframe tbody tr th {\n",
       "        vertical-align: top;\n",
       "    }\n",
       "\n",
       "    .dataframe thead th {\n",
       "        text-align: right;\n",
       "    }\n",
       "</style>\n",
       "<table border=\"1\" class=\"dataframe\">\n",
       "  <thead>\n",
       "    <tr style=\"text-align: right;\">\n",
       "      <th></th>\n",
       "      <th>toxic</th>\n",
       "      <th>severe_toxic</th>\n",
       "      <th>obscene</th>\n",
       "      <th>threat</th>\n",
       "      <th>insult</th>\n",
       "      <th>identity_hate</th>\n",
       "    </tr>\n",
       "  </thead>\n",
       "  <tbody>\n",
       "    <tr>\n",
       "      <th>count</th>\n",
       "      <td>159571.000000</td>\n",
       "      <td>159571.000000</td>\n",
       "      <td>159571.000000</td>\n",
       "      <td>159571.000000</td>\n",
       "      <td>159571.000000</td>\n",
       "      <td>159571.000000</td>\n",
       "    </tr>\n",
       "    <tr>\n",
       "      <th>mean</th>\n",
       "      <td>0.095844</td>\n",
       "      <td>0.009996</td>\n",
       "      <td>0.052948</td>\n",
       "      <td>0.002996</td>\n",
       "      <td>0.049364</td>\n",
       "      <td>0.008805</td>\n",
       "    </tr>\n",
       "    <tr>\n",
       "      <th>std</th>\n",
       "      <td>0.294379</td>\n",
       "      <td>0.099477</td>\n",
       "      <td>0.223931</td>\n",
       "      <td>0.054650</td>\n",
       "      <td>0.216627</td>\n",
       "      <td>0.093420</td>\n",
       "    </tr>\n",
       "    <tr>\n",
       "      <th>min</th>\n",
       "      <td>0.000000</td>\n",
       "      <td>0.000000</td>\n",
       "      <td>0.000000</td>\n",
       "      <td>0.000000</td>\n",
       "      <td>0.000000</td>\n",
       "      <td>0.000000</td>\n",
       "    </tr>\n",
       "    <tr>\n",
       "      <th>25%</th>\n",
       "      <td>0.000000</td>\n",
       "      <td>0.000000</td>\n",
       "      <td>0.000000</td>\n",
       "      <td>0.000000</td>\n",
       "      <td>0.000000</td>\n",
       "      <td>0.000000</td>\n",
       "    </tr>\n",
       "    <tr>\n",
       "      <th>50%</th>\n",
       "      <td>0.000000</td>\n",
       "      <td>0.000000</td>\n",
       "      <td>0.000000</td>\n",
       "      <td>0.000000</td>\n",
       "      <td>0.000000</td>\n",
       "      <td>0.000000</td>\n",
       "    </tr>\n",
       "    <tr>\n",
       "      <th>75%</th>\n",
       "      <td>0.000000</td>\n",
       "      <td>0.000000</td>\n",
       "      <td>0.000000</td>\n",
       "      <td>0.000000</td>\n",
       "      <td>0.000000</td>\n",
       "      <td>0.000000</td>\n",
       "    </tr>\n",
       "    <tr>\n",
       "      <th>max</th>\n",
       "      <td>1.000000</td>\n",
       "      <td>1.000000</td>\n",
       "      <td>1.000000</td>\n",
       "      <td>1.000000</td>\n",
       "      <td>1.000000</td>\n",
       "      <td>1.000000</td>\n",
       "    </tr>\n",
       "  </tbody>\n",
       "</table>\n",
       "</div>"
      ],
      "text/plain": [
       "               toxic   severe_toxic        obscene         threat  \\\n",
       "count  159571.000000  159571.000000  159571.000000  159571.000000   \n",
       "mean        0.095844       0.009996       0.052948       0.002996   \n",
       "std         0.294379       0.099477       0.223931       0.054650   \n",
       "min         0.000000       0.000000       0.000000       0.000000   \n",
       "25%         0.000000       0.000000       0.000000       0.000000   \n",
       "50%         0.000000       0.000000       0.000000       0.000000   \n",
       "75%         0.000000       0.000000       0.000000       0.000000   \n",
       "max         1.000000       1.000000       1.000000       1.000000   \n",
       "\n",
       "              insult  identity_hate  \n",
       "count  159571.000000  159571.000000  \n",
       "mean        0.049364       0.008805  \n",
       "std         0.216627       0.093420  \n",
       "min         0.000000       0.000000  \n",
       "25%         0.000000       0.000000  \n",
       "50%         0.000000       0.000000  \n",
       "75%         0.000000       0.000000  \n",
       "max         1.000000       1.000000  "
      ]
     },
     "execution_count": 55,
     "metadata": {},
     "output_type": "execute_result"
    }
   ],
   "source": [
    "train_1st.describe()"
   ]
  },
  {
   "cell_type": "code",
   "execution_count": 60,
   "id": "d6d3d9e3",
   "metadata": {},
   "outputs": [
    {
     "data": {
      "text/plain": [
       "9865"
      ]
     },
     "execution_count": 60,
     "metadata": {},
     "output_type": "execute_result"
    }
   ],
   "source": [
    "# 2개 이상의 label에 동시에 체크된 경우\n",
    "cnt_multi = 0\n",
    "for i in range(len(train_1st)):\n",
    "    if train_1st.iloc[i, 2:].sum() > 1:\n",
    "        cnt_multi += 1\n",
    "cnt_multi"
   ]
  },
  {
   "cell_type": "code",
   "execution_count": 16,
   "id": "67512971",
   "metadata": {},
   "outputs": [
    {
     "data": {
      "text/plain": [
       "          144277\n",
       "toxic      15294\n",
       "Name: labels, dtype: int64"
      ]
     },
     "execution_count": 16,
     "metadata": {},
     "output_type": "execute_result"
    }
   ],
   "source": [
    "train_1st['labels'] = train_1st['toxic']\n",
    "train_1st['labels'].replace(1, 'toxic ', inplace=True)\n",
    "train_1st['labels'].replace(0, '', inplace=True)\n",
    "train_1st['labels'].value_counts()"
   ]
  },
  {
   "cell_type": "code",
   "execution_count": 20,
   "id": "442080a9",
   "metadata": {
    "scrolled": true
   },
   "outputs": [
    {
     "data": {
      "text/plain": [
       "                                                           143346\n",
       "toxic                                                        5666\n",
       "toxic obscene insult                                         3800\n",
       "toxic obscene                                                1758\n",
       "toxic insult                                                 1215\n",
       "toxic severe_toxic obscene insult                             989\n",
       "toxic obscene insult identity_hate                            618\n",
       "obscene                                                       317\n",
       "insult                                                        301\n",
       "toxic severe_toxic obscene insult identity_hate               265\n",
       "obscene insult                                                181\n",
       "toxic severe_toxic obscene                                    158\n",
       "toxic identity_hate                                           136\n",
       "toxic insult identity_hate                                    134\n",
       "toxic obscene threat insult                                   131\n",
       "toxic threat                                                  113\n",
       "toxic severe_toxic obscene threat insult                       64\n",
       "toxic obscene threat insult identity_hate                      56\n",
       "identity_hate                                                  54\n",
       "toxic severe_toxic                                             41\n",
       "toxic obscene identity_hate                                    35\n",
       "toxic severe_toxic obscene threat insult identity_hate         31\n",
       "insult identity_hate                                           28\n",
       "threat                                                         22\n",
       "obscene insult identity_hate                                   18\n",
       "toxic threat insult                                            16\n",
       "toxic severe_toxic insult                                      14\n",
       "toxic severe_toxic threat                                      11\n",
       "toxic obscene threat                                           11\n",
       "toxic severe_toxic insult identity_hate                         7\n",
       "toxic threat identity_hate                                      7\n",
       "toxic severe_toxic obscene identity_hate                        6\n",
       "toxic severe_toxic obscene threat                               4\n",
       "threat insult                                                   3\n",
       "obscene identity_hate                                           3\n",
       "toxic threat insult identity_hate                               3\n",
       "toxic severe_toxic identity_hate                                3\n",
       "obscene threat                                                  2\n",
       "obscene threat insult                                           2\n",
       "toxic severe_toxic threat insult                                1\n",
       "toxic severe_toxic threat identity_hate                         1\n",
       "Name: labels, dtype: int64"
      ]
     },
     "execution_count": 20,
     "metadata": {},
     "output_type": "execute_result"
    }
   ],
   "source": [
    "train_1st['labels'] = ''\n",
    "labels = ['toxic', 'severe_toxic', 'obscene', 'threat', 'insult', 'identity_hate']\n",
    "\n",
    "for i, label in enumerate(labels):\n",
    "    train_1st[f'label{i}'] = train_1st[label].apply(str)\n",
    "    train_1st[f'label{i}'].replace('1', f'{label} ', inplace=True)\n",
    "    train_1st[f'label{i}'].replace('0', '', inplace=True)\n",
    "    train_1st['labels'] += train_1st[f'label{i}']\n",
    "train_1st['labels'].value_counts()"
   ]
  },
  {
   "cell_type": "code",
   "execution_count": 21,
   "id": "c1768af1",
   "metadata": {},
   "outputs": [],
   "source": [
    "train_1st[train_1st['labels']==''] = 'normal'"
   ]
  },
  {
   "cell_type": "code",
   "execution_count": 22,
   "id": "0136a477",
   "metadata": {},
   "outputs": [
    {
     "data": {
      "text/plain": [
       "normal                                                     143346\n",
       "toxic                                                        5666\n",
       "toxic obscene insult                                         3800\n",
       "toxic obscene                                                1758\n",
       "toxic insult                                                 1215\n",
       "toxic severe_toxic obscene insult                             989\n",
       "toxic obscene insult identity_hate                            618\n",
       "obscene                                                       317\n",
       "insult                                                        301\n",
       "toxic severe_toxic obscene insult identity_hate               265\n",
       "obscene insult                                                181\n",
       "toxic severe_toxic obscene                                    158\n",
       "toxic identity_hate                                           136\n",
       "toxic insult identity_hate                                    134\n",
       "toxic obscene threat insult                                   131\n",
       "toxic threat                                                  113\n",
       "toxic severe_toxic obscene threat insult                       64\n",
       "toxic obscene threat insult identity_hate                      56\n",
       "identity_hate                                                  54\n",
       "toxic severe_toxic                                             41\n",
       "toxic obscene identity_hate                                    35\n",
       "toxic severe_toxic obscene threat insult identity_hate         31\n",
       "insult identity_hate                                           28\n",
       "threat                                                         22\n",
       "obscene insult identity_hate                                   18\n",
       "toxic threat insult                                            16\n",
       "toxic severe_toxic insult                                      14\n",
       "toxic obscene threat                                           11\n",
       "toxic severe_toxic threat                                      11\n",
       "toxic severe_toxic insult identity_hate                         7\n",
       "toxic threat identity_hate                                      7\n",
       "toxic severe_toxic obscene identity_hate                        6\n",
       "toxic severe_toxic obscene threat                               4\n",
       "threat insult                                                   3\n",
       "toxic severe_toxic identity_hate                                3\n",
       "obscene identity_hate                                           3\n",
       "toxic threat insult identity_hate                               3\n",
       "obscene threat                                                  2\n",
       "obscene threat insult                                           2\n",
       "toxic severe_toxic threat insult                                1\n",
       "toxic severe_toxic threat identity_hate                         1\n",
       "Name: labels, dtype: int64"
      ]
     },
     "execution_count": 22,
     "metadata": {},
     "output_type": "execute_result"
    }
   ],
   "source": [
    "train_1st['labels'].value_counts()"
   ]
  },
  {
   "cell_type": "code",
   "execution_count": 28,
   "id": "49953c7a",
   "metadata": {},
   "outputs": [
    {
     "data": {
      "image/png": "[encoded data removed]",
      "text/plain": [
       "<Figure size 720x360 with 1 Axes>"
      ]
     },
     "metadata": {},
     "output_type": "display_data"
    }
   ],
   "source": [
    "fig, ax = plt.subplots(1,1, figsize=(10,5))\n",
    "sns.countplot(x='labels', data=train_1st[train_1st['labels']!='normal'])\n",
    "plt.xticks(rotation=90)\n",
    "plt.show()"
   ]
  },
  {
   "cell_type": "markdown",
   "id": "dc552a16",
   "metadata": {},
   "source": [
    "## Ruddit data"
   ]
  },
  {
   "cell_type": "code",
   "execution_count": 29,
   "id": "74c9d355",
   "metadata": {},
   "outputs": [],
   "source": [
    "ruddit_path = 'data/ruddit/ruddit_with_text_1.csv'"
   ]
  },
  {
   "cell_type": "code",
   "execution_count": 30,
   "id": "38408883",
   "metadata": {},
   "outputs": [
    {
     "data": {
      "text/html": [
       "<div>\n",
       "<style scoped>\n",
       "    .dataframe tbody tr th:only-of-type {\n",
       "        vertical-align: middle;\n",
       "    }\n",
       "\n",
       "    .dataframe tbody tr th {\n",
       "        vertical-align: top;\n",
       "    }\n",
       "\n",
       "    .dataframe thead th {\n",
       "        text-align: right;\n",
       "    }\n",
       "</style>\n",
       "<table border=\"1\" class=\"dataframe\">\n",
       "  <thead>\n",
       "    <tr style=\"text-align: right;\">\n",
       "      <th></th>\n",
       "      <th>post_id</th>\n",
       "      <th>comment_id</th>\n",
       "      <th>txt</th>\n",
       "      <th>url</th>\n",
       "      <th>offensiveness_score</th>\n",
       "    </tr>\n",
       "  </thead>\n",
       "  <tbody>\n",
       "    <tr>\n",
       "      <th>0</th>\n",
       "      <td>42g75o</td>\n",
       "      <td>cza1q49</td>\n",
       "      <td>&gt; The difference in average earnings between m...</td>\n",
       "      <td>https://www.reddit.com/r/changemyview/comments...</td>\n",
       "      <td>-0.083</td>\n",
       "    </tr>\n",
       "    <tr>\n",
       "      <th>1</th>\n",
       "      <td>42g75o</td>\n",
       "      <td>cza1wdh</td>\n",
       "      <td>The myth is that the \"gap\" is entirely based o...</td>\n",
       "      <td>https://www.reddit.com/r/changemyview/comments...</td>\n",
       "      <td>-0.022</td>\n",
       "    </tr>\n",
       "    <tr>\n",
       "      <th>2</th>\n",
       "      <td>42g75o</td>\n",
       "      <td>cza23qx</td>\n",
       "      <td>[deleted]</td>\n",
       "      <td>https://www.reddit.com/r/changemyview/comments...</td>\n",
       "      <td>0.167</td>\n",
       "    </tr>\n",
       "    <tr>\n",
       "      <th>3</th>\n",
       "      <td>42g75o</td>\n",
       "      <td>cza2bw8</td>\n",
       "      <td>The assertion is that women get paid less for ...</td>\n",
       "      <td>https://www.reddit.com/r/changemyview/comments...</td>\n",
       "      <td>-0.146</td>\n",
       "    </tr>\n",
       "    <tr>\n",
       "      <th>4</th>\n",
       "      <td>42g75o</td>\n",
       "      <td>cza2iji</td>\n",
       "      <td>You said in the OP that's not what they're mea...</td>\n",
       "      <td>https://www.reddit.com/r/changemyview/comments...</td>\n",
       "      <td>-0.083</td>\n",
       "    </tr>\n",
       "  </tbody>\n",
       "</table>\n",
       "</div>"
      ],
      "text/plain": [
       "  post_id comment_id                                                txt  \\\n",
       "0  42g75o    cza1q49  > The difference in average earnings between m...   \n",
       "1  42g75o    cza1wdh  The myth is that the \"gap\" is entirely based o...   \n",
       "2  42g75o    cza23qx                                          [deleted]   \n",
       "3  42g75o    cza2bw8  The assertion is that women get paid less for ...   \n",
       "4  42g75o    cza2iji  You said in the OP that's not what they're mea...   \n",
       "\n",
       "                                                 url  offensiveness_score  \n",
       "0  https://www.reddit.com/r/changemyview/comments...               -0.083  \n",
       "1  https://www.reddit.com/r/changemyview/comments...               -0.022  \n",
       "2  https://www.reddit.com/r/changemyview/comments...                0.167  \n",
       "3  https://www.reddit.com/r/changemyview/comments...               -0.146  \n",
       "4  https://www.reddit.com/r/changemyview/comments...               -0.083  "
      ]
     },
     "execution_count": 30,
     "metadata": {},
     "output_type": "execute_result"
    }
   ],
   "source": [
    "ruddit_data = pd.read_csv(ruddit_path)\n",
    "ruddit_data.head()"
   ]
  },
  {
   "cell_type": "markdown",
   "id": "05263795",
   "metadata": {},
   "source": [
    "### Meaning of columns\n",
    "\n",
    "* post_id: post id\n",
    "* comment_id: comment id\n",
    "* txt: comment text\n",
    "* url: comment's url\n",
    "* offensiveness_score : comment's offensiveness score"
   ]
  },
  {
   "cell_type": "code",
   "execution_count": 32,
   "id": "fb01afe4",
   "metadata": {},
   "outputs": [
    {
     "data": {
      "text/plain": [
       "453"
      ]
     },
     "execution_count": 32,
     "metadata": {},
     "output_type": "execute_result"
    }
   ],
   "source": [
    "# txt에서 [deleted] 있으면 행 지우기 (결측값)\n",
    "ruddit = ruddit_data[ruddit_data['txt'] != '[deleted]']\n",
    "len(ruddit)"
   ]
  },
  {
   "cell_type": "code",
   "execution_count": 33,
   "id": "1e3f9670",
   "metadata": {},
   "outputs": [
    {
     "name": "stdout",
     "output_type": "stream",
     "text": [
      "<class 'pandas.core.frame.DataFrame'>\n",
      "Int64Index: 453 entries, 0 to 470\n",
      "Data columns (total 5 columns):\n",
      " #   Column               Non-Null Count  Dtype  \n",
      "---  ------               --------------  -----  \n",
      " 0   post_id              453 non-null    object \n",
      " 1   comment_id           453 non-null    object \n",
      " 2   txt                  453 non-null    object \n",
      " 3   url                  453 non-null    object \n",
      " 4   offensiveness_score  453 non-null    float64\n",
      "dtypes: float64(1), object(4)\n",
      "memory usage: 21.2+ KB\n"
     ]
    }
   ],
   "source": [
    "ruddit.info()"
   ]
  },
  {
   "cell_type": "code",
   "execution_count": 34,
   "id": "9eaa908f",
   "metadata": {
    "scrolled": false
   },
   "outputs": [
    {
     "data": {
      "text/html": [
       "<div>\n",
       "<style scoped>\n",
       "    .dataframe tbody tr th:only-of-type {\n",
       "        vertical-align: middle;\n",
       "    }\n",
       "\n",
       "    .dataframe tbody tr th {\n",
       "        vertical-align: top;\n",
       "    }\n",
       "\n",
       "    .dataframe thead th {\n",
       "        text-align: right;\n",
       "    }\n",
       "</style>\n",
       "<table border=\"1\" class=\"dataframe\">\n",
       "  <thead>\n",
       "    <tr style=\"text-align: right;\">\n",
       "      <th></th>\n",
       "      <th>offensiveness_score</th>\n",
       "    </tr>\n",
       "  </thead>\n",
       "  <tbody>\n",
       "    <tr>\n",
       "      <th>count</th>\n",
       "      <td>453.000000</td>\n",
       "    </tr>\n",
       "    <tr>\n",
       "      <th>mean</th>\n",
       "      <td>-0.026638</td>\n",
       "    </tr>\n",
       "    <tr>\n",
       "      <th>std</th>\n",
       "      <td>0.235090</td>\n",
       "    </tr>\n",
       "    <tr>\n",
       "      <th>min</th>\n",
       "      <td>-0.681000</td>\n",
       "    </tr>\n",
       "    <tr>\n",
       "      <th>25%</th>\n",
       "      <td>-0.167000</td>\n",
       "    </tr>\n",
       "    <tr>\n",
       "      <th>50%</th>\n",
       "      <td>-0.021000</td>\n",
       "    </tr>\n",
       "    <tr>\n",
       "      <th>75%</th>\n",
       "      <td>0.125000</td>\n",
       "    </tr>\n",
       "    <tr>\n",
       "      <th>max</th>\n",
       "      <td>0.688000</td>\n",
       "    </tr>\n",
       "  </tbody>\n",
       "</table>\n",
       "</div>"
      ],
      "text/plain": [
       "       offensiveness_score\n",
       "count           453.000000\n",
       "mean             -0.026638\n",
       "std               0.235090\n",
       "min              -0.681000\n",
       "25%              -0.167000\n",
       "50%              -0.021000\n",
       "75%               0.125000\n",
       "max               0.688000"
      ]
     },
     "execution_count": 34,
     "metadata": {},
     "output_type": "execute_result"
    }
   ],
   "source": [
    "ruddit.describe()"
   ]
  },
  {
   "cell_type": "code",
   "execution_count": 12,
   "id": "0c06f047",
   "metadata": {},
   "outputs": [
    {
     "data": {
      "image/png": "[encoded data removed]",
      "text/plain": [
       "<Figure size 720x360 with 1 Axes>"
      ]
     },
     "metadata": {},
     "output_type": "display_data"
    }
   ],
   "source": [
    "fig, ax = plt.subplots(1,1, figsize=(10, 5))\n",
    "ax.hist(ruddit['offensiveness_score'], bins=15)\n",
    "ax.set_ylim(0, 120)\n",
    "ax.set_title('Offensiveness Distribution')\n",
    "plt.show()"
   ]
  },
  {
   "cell_type": "code",
   "execution_count": null,
   "id": "1a1b7f47",
   "metadata": {},
   "outputs": [],
   "source": []
  }
 ],
 "metadata": {
  "kernelspec": {
   "display_name": "Python 3",
   "language": "python",
   "name": "python3"
  },
  "language_info": {
   "codemirror_mode": {
    "name": "ipython",
    "version": 3
   },
   "file_extension": ".py",
   "mimetype": "text/x-python",
   "name": "python",
   "nbconvert_exporter": "python",
   "pygments_lexer": "ipython3",
   "version": "3.7.7"
  }
 },
 "nbformat": 4,
 "nbformat_minor": 5
}
